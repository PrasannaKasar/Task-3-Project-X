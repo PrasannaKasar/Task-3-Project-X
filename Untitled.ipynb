{
  "nbformat": 4,
  "nbformat_minor": 0,
  "metadata": {
    "colab": {
      "provenance": [],
      "authorship_tag": "ABX9TyOwPVjVdGyvEi+KAq8PIMsC",
      "include_colab_link": true
    },
    "kernelspec": {
      "name": "python3",
      "display_name": "Python 3"
    },
    "language_info": {
      "name": "python"
    }
  },
  "cells": [
    {
      "cell_type": "markdown",
      "metadata": {
        "id": "view-in-github",
        "colab_type": "text"
      },
      "source": [
        "<a href=\"https://colab.research.google.com/github/PrasannaKasar/Task-3-Project-X/blob/main/Untitled.ipynb\" target=\"_parent\"><img src=\"https://colab.research.google.com/assets/colab-badge.svg\" alt=\"Open In Colab\"/></a>"
      ]
    },
    {
      "cell_type": "code",
      "source": [
        "from posixpath import join\n",
        "import math\n",
        "reference = [\"It is a guide to action that ensures that the military will forever heed Party commands\",\n",
        "             \"It is the guiding principle which guarantees the military forces always being under the command of the Party\",\n",
        "             \"It is the practical guide for the army always to heed the directions of the party\"]\n",
        "candidate = [\"It is a guide to action which ensures that the military always obeys the commands of the party\"]\n",
        "\n",
        "def getArr(candidate):\n",
        "    cd = []\n",
        "\n",
        "    for str in candidate:\n",
        "        cd = str.split()\n",
        "\n",
        "    return cd\n",
        "\n",
        "\n",
        "# print(candidate)\n",
        "# list = candidate[0:1]\n",
        "# str = \" \".join(list)\n",
        "# print(reference[1].find(str))\n",
        "def getProbability(reference, candidate):\n",
        "    ans = []\n",
        "    for i in range(1, 5):\n",
        "        count = 0\n",
        "        for j in range(len(candidate)):\n",
        "            for str in reference:\n",
        "                if i + j <= len(candidate):\n",
        "                    list = candidate[j:j+i]\n",
        "                    s = \" \".join(list)\n",
        "\n",
        "                    if str.find(s) >= 0:\n",
        "                        # print(s)\n",
        "                        count += 1\n",
        "                        break\n",
        "        ans.append(count)\n",
        "\n",
        "    for i in range(len(candidate)):\n",
        "        if i == 4 :\n",
        "            break;\n",
        "        ans[i] /= len(candidate) - i\n",
        "\n",
        "    return ans\n",
        "\n",
        "# print(probability)\n",
        "\n",
        "def getGM(probability):\n",
        "    gm = 1\n",
        "    for p in probability:\n",
        "        gm *= p\n",
        "\n",
        "    return gm\n",
        "\n",
        "def getRefLen(reference, candidate):\n",
        "    refWords = []\n",
        "    refLens = []\n",
        "\n",
        "    for ref in reference:\n",
        "        sentence = ref.split()\n",
        "        refWords.append(sentence)\n",
        "\n",
        "    for ref in refWords:\n",
        "        refLens.append(len(ref))\n",
        "\n",
        "    refLens.sort()\n",
        "\n",
        "    s = 0\n",
        "    e = len(refLens) - 1\n",
        "    target = len(candidate)\n",
        "\n",
        "    if target < refLens[0]:\n",
        "        return target, refLens[0]\n",
        "\n",
        "    while s <= e :\n",
        "        m = int((s + e)/2)\n",
        "        if (refLens[m] < target):\n",
        "            s = m + 1\n",
        "\n",
        "        elif (refLens[m] < target):\n",
        "            e = m - 1\n",
        "\n",
        "        else :\n",
        "            return target, refLens[m]\n",
        "\n",
        "    return target, refLens[e]\n",
        "\n",
        "# print(getRefLen(reference, candidate))\n",
        "\n",
        "def getBrevityPenalty(reference, candidate):\n",
        "    cdLen, refLen = getRefLen(reference, candidate)\n",
        "    if cdLen > refLen:\n",
        "        return 1\n",
        "    else :\n",
        "        return math.exp(1 - refLen / cdLen)\n",
        "\n",
        "# print(getBrevityPenalty())\n",
        "\n",
        "def getBLUEScore(reference, candidate):\n",
        "    candidate = getArr(candidate)\n",
        "    probability = getProbability(reference, candidate)\n",
        "    gm = getGM(probability)\n",
        "    BP = getBrevityPenalty(reference, candidate)\n",
        "    return pow(gm, 0.25) * BP\n",
        "\n",
        "print(getBLUEScore(reference, candidate))\n"
      ],
      "metadata": {
        "colab": {
          "base_uri": "https://localhost:8080/"
        },
        "id": "ujH0qCppjgRA",
        "outputId": "552f6f7c-d11d-4d15-963d-ab2baca2c197"
      },
      "execution_count": 68,
      "outputs": [
        {
          "output_type": "stream",
          "name": "stdout",
          "text": [
            "0.5045666840058485\n"
          ]
        }
      ]
    },
    {
      "cell_type": "code",
      "source": [],
      "metadata": {
        "id": "gW_40kY2xt6O"
      },
      "execution_count": null,
      "outputs": []
    }
  ]
}